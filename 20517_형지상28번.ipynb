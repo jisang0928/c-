{
  "nbformat": 4,
  "nbformat_minor": 0,
  "metadata": {
    "colab": {
      "provenance": []
    },
    "kernelspec": {
      "name": "python3",
      "display_name": "Python 3"
    },
    "language_info": {
      "name": "python"
    }
  },
  "cells": [
    {
      "cell_type": "code",
      "execution_count": null,
      "metadata": {
        "colab": {
          "base_uri": "https://localhost:8080/"
        },
        "id": "7jhjfTELJleh",
        "outputId": "e6fcf844-03a0-4a8e-a030-9e2fadf5e0f0"
      },
      "outputs": [
        {
          "output_type": "stream",
          "name": "stdout",
          "text": [
            "안녕하세요\n",
            "안녕하세요\n",
            "안녕하세요\n"
          ]
        }
      ],
      "source": [
        "#1번\n",
        "a=0\n",
        "while a < 3:\n",
        "  print(\"안녕하세요\")\n",
        "  a+=1"
      ]
    },
    {
      "cell_type": "code",
      "source": [
        "#/2번\n",
        "a=0\n",
        "b=1\n",
        "while a < 3:\n",
        "  print(b,\"번 학생의 성적을 처리한다\")\n",
        "  a+=1\n",
        "  b+=1"
      ],
      "metadata": {
        "colab": {
          "base_uri": "https://localhost:8080/"
        },
        "id": "bAkrLyrEK3LK",
        "outputId": "3816f0f1-1675-450c-d184-534182006648"
      },
      "execution_count": null,
      "outputs": [
        {
          "output_type": "stream",
          "name": "stdout",
          "text": [
            "1 번 학생의 성적을 처리한다\n",
            "2 번 학생의 성적을 처리한다\n",
            "3 번 학생의 성적을 처리한다\n"
          ]
        }
      ]
    },
    {
      "cell_type": "code",
      "source": [
        "#4번\n",
        "a = 1\n",
        "dan = int(input(\"원하는 단은?\"))\n",
        "while a < 10:\n",
        "    print(dan,\"*\",a,'=',dan*a)\n",
        "    a+=1"
      ],
      "metadata": {
        "colab": {
          "base_uri": "https://localhost:8080/"
        },
        "id": "261vVxBPJvlM",
        "outputId": "6ce28d20-45da-4608-ffd2-f367be366108"
      },
      "execution_count": null,
      "outputs": [
        {
          "output_type": "stream",
          "name": "stdout",
          "text": [
            "원하는 단은?3\n",
            "3 * 1 = 3\n",
            "3 * 2 = 6\n",
            "3 * 3 = 9\n",
            "3 * 4 = 12\n",
            "3 * 5 = 15\n",
            "3 * 6 = 18\n",
            "3 * 7 = 21\n",
            "3 * 8 = 24\n",
            "3 * 9 = 27\n"
          ]
        }
      ]
    },
    {
      "cell_type": "code",
      "source": [
        "#5번\n",
        "a = 1\n",
        "i = 1\n",
        "b = 1\n",
        "while a < 11:\n",
        "  print(\"i의 값 :\", i ,\"==> 합계 :\", b )\n",
        "  i += 1\n",
        "  b += i\n",
        "  a += 1"
      ],
      "metadata": {
        "colab": {
          "base_uri": "https://localhost:8080/"
        },
        "id": "ovjyOQXhJvi1",
        "outputId": "764256f2-4f40-4aba-8b24-0ebd12eacc5c"
      },
      "execution_count": null,
      "outputs": [
        {
          "output_type": "stream",
          "name": "stdout",
          "text": [
            "i의 값 : 1 ==> 합계 : 1\n",
            "i의 값 : 2 ==> 합계 : 3\n",
            "i의 값 : 3 ==> 합계 : 6\n",
            "i의 값 : 4 ==> 합계 : 10\n",
            "i의 값 : 5 ==> 합계 : 15\n",
            "i의 값 : 6 ==> 합계 : 21\n",
            "i의 값 : 7 ==> 합계 : 28\n",
            "i의 값 : 8 ==> 합계 : 36\n",
            "i의 값 : 9 ==> 합계 : 45\n",
            "i의 값 : 10 ==> 합계 : 55\n"
          ]
        }
      ]
    },
    {
      "cell_type": "code",
      "source": [
        "#6번\n",
        "a = 150\n",
        "sum = 0\n",
        "while a < 300:\n",
        "  if a/2 !=1:\n",
        "    sum += a\n",
        "    a += 1\n",
        "print(sum)"
      ],
      "metadata": {
        "colab": {
          "base_uri": "https://localhost:8080/"
        },
        "id": "zJtzpodDJvgf",
        "outputId": "53ad6c0d-eaae-4aa0-b857-ecf34d6a2fcf"
      },
      "execution_count": null,
      "outputs": [
        {
          "output_type": "stream",
          "name": "stdout",
          "text": [
            "33675\n"
          ]
        }
      ]
    },
    {
      "cell_type": "code",
      "source": [
        "#/7번\n",
        "print('-'*15)\n",
        "print('섭씨   화씨')\n",
        "print('-' * 15)\n",
        "c = -5\n",
        "while c <6:\n",
        "  f = c * 9.0 / 5.0 + 32.0\n",
        "  print(\"%5d  %5.1f\" %(c,f))\n",
        "  c+=1\n",
        "print('-' * 15)"
      ],
      "metadata": {
        "colab": {
          "base_uri": "https://localhost:8080/"
        },
        "id": "d7BPR-PnJvdq",
        "outputId": "8b92fc50-db4d-4c19-868b-c8d682602e1a"
      },
      "execution_count": null,
      "outputs": [
        {
          "output_type": "stream",
          "name": "stdout",
          "text": [
            "---------------\n",
            "섭씨   화씨\n",
            "---------------\n",
            "   -5   23.0\n",
            "   -4   24.8\n",
            "   -3   26.6\n",
            "   -2   28.4\n",
            "   -1   30.2\n",
            "    0   32.0\n",
            "    1   33.8\n",
            "    2   35.6\n",
            "    3   37.4\n",
            "    4   39.2\n",
            "    5   41.0\n",
            "---------------\n"
          ]
        }
      ]
    },
    {
      "cell_type": "code",
      "source": [
        "#8번\n",
        "a = 0\n",
        "b = 10\n",
        "sum =1\n",
        "while a < 10:\n",
        "  sum = int(sum*b)\n",
        "  b = int(b-1)\n",
        "  a+=1\n",
        "print('10! = ' ,sum)"
      ],
      "metadata": {
        "colab": {
          "base_uri": "https://localhost:8080/"
        },
        "id": "_2JHB_aBJvbQ",
        "outputId": "3d84fbc9-9384-441b-d673-14808ac1580a"
      },
      "execution_count": null,
      "outputs": [
        {
          "output_type": "stream",
          "name": "stdout",
          "text": [
            "10! =  3628800\n"
          ]
        }
      ]
    },
    {
      "cell_type": "code",
      "source": [
        "#/9번\n",
        "a = 1\n",
        "while a<21:\n",
        "  if a%2 == 0:\n",
        "    print(a)\n",
        "  a+=1"
      ],
      "metadata": {
        "colab": {
          "base_uri": "https://localhost:8080/"
        },
        "id": "k-1QnQobJvYo",
        "outputId": "48c60e00-fc03-44b2-eedf-57cfe7da87d0"
      },
      "execution_count": null,
      "outputs": [
        {
          "output_type": "stream",
          "name": "stdout",
          "text": [
            "2\n",
            "4\n",
            "6\n",
            "8\n",
            "10\n",
            "12\n",
            "14\n",
            "16\n",
            "18\n",
            "20\n"
          ]
        }
      ]
    },
    {
      "cell_type": "code",
      "source": [
        "#10번\n",
        "a = 10\n",
        "while a<51:\n",
        "  if a%3 != 0:\n",
        "    print(a)\n",
        "  a+=1"
      ],
      "metadata": {
        "colab": {
          "base_uri": "https://localhost:8080/"
        },
        "id": "6Xk_6w7GJvWI",
        "outputId": "7ad1127b-f0bc-463d-df59-e1755c342f1a"
      },
      "execution_count": null,
      "outputs": [
        {
          "output_type": "stream",
          "name": "stdout",
          "text": [
            "10\n",
            "11\n",
            "13\n",
            "14\n",
            "16\n",
            "17\n",
            "19\n",
            "20\n",
            "22\n",
            "23\n",
            "25\n",
            "26\n",
            "28\n",
            "29\n",
            "31\n",
            "32\n",
            "34\n",
            "35\n",
            "37\n",
            "38\n",
            "40\n",
            "41\n",
            "43\n",
            "44\n",
            "46\n",
            "47\n",
            "49\n",
            "50\n"
          ]
        }
      ]
    },
    {
      "cell_type": "code",
      "source": [
        "#11번\n",
        "pw = ''\n",
        "while pw != 'python':\n",
        "  pw = input('암호입력 :')\n",
        "print('로그인 성공')"
      ],
      "metadata": {
        "id": "VEZmlQhDJvUI",
        "colab": {
          "base_uri": "https://localhost:8080/"
        },
        "outputId": "164cb813-35a4-48da-ea7b-3a1ff627dbd1"
      },
      "execution_count": null,
      "outputs": [
        {
          "output_type": "stream",
          "name": "stdout",
          "text": [
            "암호입력 :java\n",
            "암호입력 :c\n",
            "암호입력 :python\n",
            "로그인 성공\n"
          ]
        }
      ]
    },
    {
      "cell_type": "code",
      "source": [
        "#12번\n",
        "import random\n",
        "cnt = 0\n",
        "guess = 0\n",
        "answer = random.randint(1, 100)\n",
        "\n",
        "print('1부터 100사이의 숫자를 맞추기')\n",
        "while guess != answer :\n",
        "  guess = int(input('숫자를 맞춰 보세요 :'))\n",
        "  cnt += 1\n",
        "  if guess > answer :\n",
        "    print('높음')\n",
        "  elif guess < answer :\n",
        "    print('낮음')\n",
        "print('축하합니다.', '시도횟수 =' , cnt)"
      ],
      "metadata": {
        "id": "S_6NoytpJvPY",
        "colab": {
          "base_uri": "https://localhost:8080/"
        },
        "outputId": "95df9f6b-ecce-415b-cfc3-daada9c53ac5"
      },
      "execution_count": null,
      "outputs": [
        {
          "output_type": "stream",
          "name": "stdout",
          "text": [
            "1부터 100사이의 숫자를 맞추기\n",
            "숫자를 맞춰 보세요 :50\n",
            "낮음\n",
            "숫자를 맞춰 보세요 :80\n",
            "높음\n",
            "숫자를 맞춰 보세요 :75\n",
            "축하합니다. 시도횟수 = 3\n"
          ]
        }
      ]
    },
    {
      "cell_type": "markdown",
      "source": [
        "for문\n"
      ],
      "metadata": {
        "id": "RvX8Xzwp10tN"
      }
    },
    {
      "cell_type": "code",
      "source": [
        "#ex1\n",
        "for i in(1,2,3):\n",
        "  print(\"안녕하세요\")"
      ],
      "metadata": {
        "colab": {
          "base_uri": "https://localhost:8080/"
        },
        "id": "-nH4d_os10gm",
        "outputId": "0647cf45-ff18-4f86-83ea-29f2334b7d5f"
      },
      "execution_count": null,
      "outputs": [
        {
          "output_type": "stream",
          "name": "stdout",
          "text": [
            "안녕하세요\n",
            "안녕하세요\n",
            "안녕하세요\n"
          ]
        }
      ]
    },
    {
      "cell_type": "code",
      "source": [
        "#ex2\n",
        "for i in range(0, 10, 1):\n",
        "  print(i)"
      ],
      "metadata": {
        "colab": {
          "base_uri": "https://localhost:8080/"
        },
        "id": "r4VPp2uZ2Iim",
        "outputId": "a68b32d9-40ae-440e-fd60-e96250575e78"
      },
      "execution_count": null,
      "outputs": [
        {
          "output_type": "stream",
          "name": "stdout",
          "text": [
            "0\n",
            "1\n",
            "2\n",
            "3\n",
            "4\n",
            "5\n",
            "6\n",
            "7\n",
            "8\n",
            "9\n"
          ]
        }
      ]
    },
    {
      "cell_type": "code",
      "source": [
        "#ex3\n",
        "for i in range(1, 11, 1):\n",
        "  print(i)"
      ],
      "metadata": {
        "colab": {
          "base_uri": "https://localhost:8080/"
        },
        "id": "z4TEy8wF2IgN",
        "outputId": "84e78157-ed26-4ffc-d040-0452105cf165"
      },
      "execution_count": null,
      "outputs": [
        {
          "output_type": "stream",
          "name": "stdout",
          "text": [
            "1\n",
            "2\n",
            "3\n",
            "4\n",
            "5\n",
            "6\n",
            "7\n",
            "8\n",
            "9\n",
            "10\n"
          ]
        }
      ]
    },
    {
      "cell_type": "code",
      "source": [
        "#ex4\n",
        "for i in range(1, 11, 2):\n",
        "  print(i)"
      ],
      "metadata": {
        "colab": {
          "base_uri": "https://localhost:8080/"
        },
        "id": "jdVhLHTk2Ide",
        "outputId": "0f88acfc-3405-4776-f8ef-b9bba9ae367a"
      },
      "execution_count": null,
      "outputs": [
        {
          "output_type": "stream",
          "name": "stdout",
          "text": [
            "1\n",
            "3\n",
            "5\n",
            "7\n",
            "9\n"
          ]
        }
      ]
    },
    {
      "cell_type": "code",
      "source": [
        "#ex5\n",
        "for i in range(20, 0, -2):\n",
        "  print(i)"
      ],
      "metadata": {
        "colab": {
          "base_uri": "https://localhost:8080/"
        },
        "id": "s7zfWhG02Ia_",
        "outputId": "3e7db929-2856-4387-9271-f7c8c24d5eed"
      },
      "execution_count": null,
      "outputs": [
        {
          "output_type": "stream",
          "name": "stdout",
          "text": [
            "20\n",
            "18\n",
            "16\n",
            "14\n",
            "12\n",
            "10\n",
            "8\n",
            "6\n",
            "4\n",
            "2\n"
          ]
        }
      ]
    },
    {
      "cell_type": "code",
      "source": [
        "#ex6\n",
        "for i in range(0, 3 ,1):\n",
        "  print(\"안녕하세요\")"
      ],
      "metadata": {
        "colab": {
          "base_uri": "https://localhost:8080/"
        },
        "id": "DgpKya5I2IYe",
        "outputId": "5d010805-a491-476c-e59e-92b9034bdc48"
      },
      "execution_count": null,
      "outputs": [
        {
          "output_type": "stream",
          "name": "stdout",
          "text": [
            "안녕하세요\n",
            "안녕하세요\n",
            "안녕하세요\n"
          ]
        }
      ]
    },
    {
      "cell_type": "code",
      "source": [
        "#ex7\n",
        "a = 10\n",
        "for num in range(1, 5, 2):\n",
        "  a += num\n",
        "print(a)"
      ],
      "metadata": {
        "colab": {
          "base_uri": "https://localhost:8080/"
        },
        "id": "EKeC2Xm-3LB9",
        "outputId": "be567a40-13bc-4294-f85d-b35ce2e6ad68"
      },
      "execution_count": null,
      "outputs": [
        {
          "output_type": "stream",
          "name": "stdout",
          "text": [
            "14\n"
          ]
        }
      ]
    },
    {
      "cell_type": "code",
      "source": [
        "#ex8\n",
        "for i in(1,2,3):\n",
        "  print(i, \"번째 학생의 성적 처리\")"
      ],
      "metadata": {
        "colab": {
          "base_uri": "https://localhost:8080/"
        },
        "id": "YIAHrv3C3LAF",
        "outputId": "76a80580-dd70-4622-8d44-f5b820259dec"
      },
      "execution_count": null,
      "outputs": [
        {
          "output_type": "stream",
          "name": "stdout",
          "text": [
            "1 번째 학생의 성적 처리\n",
            "2 번째 학생의 성적 처리\n",
            "3 번째 학생의 성적 처리\n"
          ]
        }
      ]
    },
    {
      "cell_type": "code",
      "source": [
        "#ex9\n",
        "for i in(1,21,1):\n",
        "  if (i%2==0):\n",
        "    print(i, end='')\n"
      ],
      "metadata": {
        "id": "bweiQsju3K9u"
      },
      "execution_count": null,
      "outputs": []
    },
    {
      "cell_type": "code",
      "source": [
        "#ex10\n",
        "a=2\n",
        "for b in range(1, 10):\n",
        "  c = a*b \n",
        "  print(f\"{a}*{b}={c}\")"
      ],
      "metadata": {
        "colab": {
          "base_uri": "https://localhost:8080/"
        },
        "id": "pAlaai4l3K7d",
        "outputId": "66ebff3b-1631-45cc-cda7-d2110d8f3321"
      },
      "execution_count": null,
      "outputs": [
        {
          "output_type": "stream",
          "name": "stdout",
          "text": [
            "2*1=2\n",
            "2*2=4\n",
            "2*3=6\n",
            "2*4=8\n",
            "2*5=10\n",
            "2*6=12\n",
            "2*7=14\n",
            "2*8=16\n",
            "2*9=18\n"
          ]
        }
      ]
    },
    {
      "cell_type": "code",
      "source": [
        "#ex11\n",
        "a=0\n",
        "for i in range(1, 11, 1):\n",
        "  a+=i\n",
        "  print('i의값: ', i,'합계: ',a)"
      ],
      "metadata": {
        "colab": {
          "base_uri": "https://localhost:8080/"
        },
        "id": "Kqf3MIRZ3K4-",
        "outputId": "23d592c0-d3ed-4417-daf1-b4d0468a5e7b"
      },
      "execution_count": null,
      "outputs": [
        {
          "output_type": "stream",
          "name": "stdout",
          "text": [
            "i의값:  1 합계:  1\n",
            "i의값:  2 합계:  3\n",
            "i의값:  3 합계:  6\n",
            "i의값:  4 합계:  10\n",
            "i의값:  5 합계:  15\n",
            "i의값:  6 합계:  21\n",
            "i의값:  7 합계:  28\n",
            "i의값:  8 합계:  36\n",
            "i의값:  9 합계:  45\n",
            "i의값:  10 합계:  55\n"
          ]
        }
      ]
    },
    {
      "cell_type": "code",
      "source": [
        "#ex12\n",
        "a=0\n",
        "for i in range(0, 102, 2):\n",
        "  a+=i\n",
        "print('1~100까지의 even_sum =', a)"
      ],
      "metadata": {
        "colab": {
          "base_uri": "https://localhost:8080/"
        },
        "id": "_vbQ337gH2Ky",
        "outputId": "d0b5a110-d2eb-44d3-afb9-ea2b81d00c51"
      },
      "execution_count": null,
      "outputs": [
        {
          "output_type": "stream",
          "name": "stdout",
          "text": [
            "1~100까지의 even_sum = 2550\n"
          ]
        }
      ]
    },
    {
      "cell_type": "code",
      "source": [
        "cnt=0\n",
        "for i in range(5, 101, 5):\n",
        "  cnt+=1\n",
        "  print(i,end = \" \")\n",
        "  if cnt%7==0:\n",
        "    print(\"\\n\")"
      ],
      "metadata": {
        "colab": {
          "base_uri": "https://localhost:8080/"
        },
        "id": "7qadssY0I2ZS",
        "outputId": "519d3847-8875-4696-f0d1-87d8c34ac6a0"
      },
      "execution_count": null,
      "outputs": [
        {
          "output_type": "stream",
          "name": "stdout",
          "text": [
            "5 10 15 20 25 30 35 \n",
            "\n",
            "40 45 50 55 60 65 70 \n",
            "\n",
            "75 80 85 90 95 100 "
          ]
        }
      ]
    },
    {
      "cell_type": "code",
      "source": [
        "n = int(input(\"정수를 입력하시오: \"))\n",
        "for i in range(1, n+1):\n",
        "  if n%i==6:\n",
        "    print(i,end = \" \")"
      ],
      "metadata": {
        "colab": {
          "base_uri": "https://localhost:8080/"
        },
        "id": "-kAFZLWMMHgp",
        "outputId": "6338897b-0190-42ec-918a-f12c21953195"
      },
      "execution_count": null,
      "outputs": [
        {
          "name": "stdout",
          "output_type": "stream",
          "text": [
            "정수를 입력하시오: 6\n"
          ]
        }
      ]
    },
    {
      "cell_type": "code",
      "source": [
        "#ex 16)\n",
        "a = 0 \n",
        "b = 1\n",
        "for i in range ( 1, 21, 1):\n",
        "  print(a, end = ' ')\n",
        "  n = a + b\n",
        "  a =  b\n",
        "  b = n\n"
      ],
      "metadata": {
        "colab": {
          "base_uri": "https://localhost:8080/"
        },
        "id": "-NyNit9l2BBS",
        "outputId": "408ee651-f1c0-427f-bf25-de6354127f5e"
      },
      "execution_count": 2,
      "outputs": [
        {
          "output_type": "stream",
          "name": "stdout",
          "text": [
            "0 1 1 2 3 5 8 13 21 34 55 89 144 233 377 610 987 1597 2584 4181 "
          ]
        }
      ]
    },
    {
      "cell_type": "code",
      "source": [
        "#ex 17)\n",
        "for x in range(1, 41, 1):\n",
        "  if(x%10==0):\n",
        "    print('+', end='')\n",
        "  else:\n",
        "    print('-', end='')"
      ],
      "metadata": {
        "colab": {
          "base_uri": "https://localhost:8080/"
        },
        "id": "yXSM8jA42A-z",
        "outputId": "44acca54-3056-4fd1-c979-e092e6522652"
      },
      "execution_count": 4,
      "outputs": [
        {
          "output_type": "stream",
          "name": "stdout",
          "text": [
            "---------+---------+---------+---------+"
          ]
        }
      ]
    },
    {
      "cell_type": "code",
      "source": [
        "#ex 18)\n",
        "x  = 1\n",
        "while(x < 41):\n",
        "  if(x%10==0):\n",
        "     print('+', end='')\n",
        "  else:\n",
        "    print('-', end='')\n",
        "  x+=1"
      ],
      "metadata": {
        "colab": {
          "base_uri": "https://localhost:8080/"
        },
        "id": "SHmma9Vw2A8C",
        "outputId": "834a5412-8cbb-405a-f7ba-716aafe2bc2f"
      },
      "execution_count": 7,
      "outputs": [
        {
          "output_type": "stream",
          "name": "stdout",
          "text": [
            "---------+---------+---------+---------+"
          ]
        }
      ]
    },
    {
      "cell_type": "code",
      "source": [
        "#ex 19)\n",
        "print('-'* 40)\n",
        "print(\"센치(cm) 인치(inch) 피트(ft) 야드(yd)\")\n",
        "print('-'*40)\n",
        "for cm in range(10, 101, 10):\n",
        "  inch = cm * 0.393701\n",
        "  ft = cm * 0.032808\n",
        "  yd = cm * 0.010936\n",
        "  print(\"%7d %8.1f %8.1f %8.1f\" %(cm, inch, ft, yd))\n",
        "print('-'*40)"
      ],
      "metadata": {
        "colab": {
          "base_uri": "https://localhost:8080/"
        },
        "id": "AddfFE1x2A2a",
        "outputId": "7b87b5de-db87-4c3a-ac70-a549e67517e2"
      },
      "execution_count": 12,
      "outputs": [
        {
          "output_type": "stream",
          "name": "stdout",
          "text": [
            "----------------------------------------\n",
            "센치(cm) 인치(inch) 피트(ft) 야드(yd)\n",
            "----------------------------------------\n",
            "     10      3.9      0.3      0.1\n",
            "     20      7.9      0.7      0.2\n",
            "     30     11.8      1.0      0.3\n",
            "     40     15.7      1.3      0.4\n",
            "     50     19.7      1.6      0.5\n",
            "     60     23.6      2.0      0.7\n",
            "     70     27.6      2.3      0.8\n",
            "     80     31.5      2.6      0.9\n",
            "     90     35.4      3.0      1.0\n",
            "    100     39.4      3.3      1.1\n",
            "----------------------------------------\n"
          ]
        }
      ]
    },
    {
      "cell_type": "code",
      "source": [
        "#ex 20)\n",
        "for i in range(1,1001):\n",
        "  print(i,end ='')\n",
        "  if i == 10:\n",
        "    break"
      ],
      "metadata": {
        "colab": {
          "base_uri": "https://localhost:8080/"
        },
        "id": "nIVDMFjF2Azj",
        "outputId": "f344a8ad-3ee9-49a8-cefc-848815254567"
      },
      "execution_count": 11,
      "outputs": [
        {
          "output_type": "stream",
          "name": "stdout",
          "text": [
            "12345678910"
          ]
        }
      ]
    },
    {
      "cell_type": "code",
      "source": [
        "#ex 21)\n",
        "score = [ 92, 86, 68, 120, 56, 72]\n",
        "\n",
        "for s in score:\n",
        "  if(s<0 or s>100):\n",
        "    break\n",
        "  print(s)\n",
        "print('성적처리 끝')"
      ],
      "metadata": {
        "colab": {
          "base_uri": "https://localhost:8080/"
        },
        "id": "YPnDjQTx5Fg8",
        "outputId": "09279786-0102-4c1e-f6c3-33a4a880edfa"
      },
      "execution_count": 15,
      "outputs": [
        {
          "output_type": "stream",
          "name": "stdout",
          "text": [
            "92\n",
            "86\n",
            "68\n",
            "성적처리 끝\n"
          ]
        }
      ]
    },
    {
      "cell_type": "code",
      "source": [
        "#ex 21-1)\n",
        "score = [ 92, 86, 68, 120, 56, 72]\n",
        "\n",
        "for s in score:\n",
        "  if(s<0 or s>100):\n",
        "    continue\n",
        "  print(s)\n",
        "print('성적처리 끝')\n",
        "\n"
      ],
      "metadata": {
        "colab": {
          "base_uri": "https://localhost:8080/"
        },
        "id": "5liPQjOw5Fed",
        "outputId": "ccdbc892-3d80-46ab-e155-97dd70233f27"
      },
      "execution_count": 20,
      "outputs": [
        {
          "output_type": "stream",
          "name": "stdout",
          "text": [
            "92\n",
            "86\n",
            "68\n",
            "56\n",
            "72\n",
            "성적처리 끝\n"
          ]
        }
      ]
    },
    {
      "cell_type": "code",
      "source": [
        "#ex 22)\n",
        "print( \" 3 + 4 = ?\")\n",
        "while True:\n",
        "  a = int(input(\"정답을 입력하시오: \"))\n",
        "  if(a == 7):\n",
        "    break\n",
        "print(\"참 잘했어요\")"
      ],
      "metadata": {
        "colab": {
          "base_uri": "https://localhost:8080/"
        },
        "id": "YDgVt4Pb5FcG",
        "outputId": "cb21d01e-ab54-440e-f708-5e1ebe64d83f"
      },
      "execution_count": 24,
      "outputs": [
        {
          "output_type": "stream",
          "name": "stdout",
          "text": [
            " 3 + 4 = ?\n",
            "정답을 입력하시오: 7\n",
            "참 잘했어요\n"
          ]
        }
      ]
    },
    {
      "cell_type": "code",
      "source": [
        "#ex 23)\n",
        "while True:\n",
        "  light = input('신호등 색상입력 : ')\n",
        "  if(light == 'green'):\n",
        "    break\n",
        "print(\"길을 건너세요\")"
      ],
      "metadata": {
        "colab": {
          "base_uri": "https://localhost:8080/"
        },
        "id": "F27OrL155FUb",
        "outputId": "d3ccb293-e1ef-4a30-9707-b9b93d2a8324"
      },
      "execution_count": 25,
      "outputs": [
        {
          "output_type": "stream",
          "name": "stdout",
          "text": [
            "신호등 색상입력 : green\n",
            "길을 건너세요\n"
          ]
        }
      ]
    },
    {
      "cell_type": "code",
      "source": [
        "#ex 24)\n",
        "i = 1\n",
        "total = 0\n",
        "while True:\n",
        "  total = total + i\n",
        "  if(total > 50):\n",
        "    print('합이 50보다 커지는 수는 %d이고 합은 %d이다.' %(i,total))\n",
        "    break\n",
        "  i+=1;"
      ],
      "metadata": {
        "colab": {
          "base_uri": "https://localhost:8080/"
        },
        "id": "qt1zliwi5FSE",
        "outputId": "6224af46-056d-49a3-8dc3-f44747ea8db6"
      },
      "execution_count": 33,
      "outputs": [
        {
          "output_type": "stream",
          "name": "stdout",
          "text": [
            "합이 50보다 커지는 수는 10이고 합은 55이다.\n"
          ]
        }
      ]
    },
    {
      "cell_type": "code",
      "source": [
        "#ex 25)\n",
        "dan = 2\n",
        "while dan < 10:\n",
        "  hang = 1\n",
        "  print( dan, \"단\")\n",
        "  while hang < 10:\n",
        "    print(dan,\"*\", hang, \"=\", dan *hang)\n",
        "    hang += 1\n",
        "  dan+=1\n",
        "  print()\n"
      ],
      "metadata": {
        "colab": {
          "base_uri": "https://localhost:8080/"
        },
        "id": "JJaAnAwuCW_v",
        "outputId": "9d554dd2-a893-4e1b-b972-004744897b6e"
      },
      "execution_count": 36,
      "outputs": [
        {
          "output_type": "stream",
          "name": "stdout",
          "text": [
            "2 단\n",
            "2 * 1 = 2\n",
            "2 * 2 = 4\n",
            "2 * 3 = 6\n",
            "2 * 4 = 8\n",
            "2 * 5 = 10\n",
            "2 * 6 = 12\n",
            "2 * 7 = 14\n",
            "2 * 8 = 16\n",
            "2 * 9 = 18\n",
            "\n",
            "3 단\n",
            "3 * 1 = 3\n",
            "3 * 2 = 6\n",
            "3 * 3 = 9\n",
            "3 * 4 = 12\n",
            "3 * 5 = 15\n",
            "3 * 6 = 18\n",
            "3 * 7 = 21\n",
            "3 * 8 = 24\n",
            "3 * 9 = 27\n",
            "\n",
            "4 단\n",
            "4 * 1 = 4\n",
            "4 * 2 = 8\n",
            "4 * 3 = 12\n",
            "4 * 4 = 16\n",
            "4 * 5 = 20\n",
            "4 * 6 = 24\n",
            "4 * 7 = 28\n",
            "4 * 8 = 32\n",
            "4 * 9 = 36\n",
            "\n",
            "5 단\n",
            "5 * 1 = 5\n",
            "5 * 2 = 10\n",
            "5 * 3 = 15\n",
            "5 * 4 = 20\n",
            "5 * 5 = 25\n",
            "5 * 6 = 30\n",
            "5 * 7 = 35\n",
            "5 * 8 = 40\n",
            "5 * 9 = 45\n",
            "\n",
            "6 단\n",
            "6 * 1 = 6\n",
            "6 * 2 = 12\n",
            "6 * 3 = 18\n",
            "6 * 4 = 24\n",
            "6 * 5 = 30\n",
            "6 * 6 = 36\n",
            "6 * 7 = 42\n",
            "6 * 8 = 48\n",
            "6 * 9 = 54\n",
            "\n",
            "7 단\n",
            "7 * 1 = 7\n",
            "7 * 2 = 14\n",
            "7 * 3 = 21\n",
            "7 * 4 = 28\n",
            "7 * 5 = 35\n",
            "7 * 6 = 42\n",
            "7 * 7 = 49\n",
            "7 * 8 = 56\n",
            "7 * 9 = 63\n",
            "\n",
            "8 단\n",
            "8 * 1 = 8\n",
            "8 * 2 = 16\n",
            "8 * 3 = 24\n",
            "8 * 4 = 32\n",
            "8 * 5 = 40\n",
            "8 * 6 = 48\n",
            "8 * 7 = 56\n",
            "8 * 8 = 64\n",
            "8 * 9 = 72\n",
            "\n",
            "9 단\n",
            "9 * 1 = 9\n",
            "9 * 2 = 18\n",
            "9 * 3 = 27\n",
            "9 * 4 = 36\n",
            "9 * 5 = 45\n",
            "9 * 6 = 54\n",
            "9 * 7 = 63\n",
            "9 * 8 = 72\n",
            "9 * 9 = 81\n",
            "\n"
          ]
        }
      ]
    },
    {
      "cell_type": "code",
      "source": [
        "#ex 26)\n",
        "for y in range(1,6):\n",
        "  for x in range(1,y+1):\n",
        "    print('*', end = '')\n",
        "  print()"
      ],
      "metadata": {
        "colab": {
          "base_uri": "https://localhost:8080/"
        },
        "id": "Txz8LAP0CW95",
        "outputId": "6c7be025-ca18-4cbc-9f75-538ee8b37262"
      },
      "execution_count": 41,
      "outputs": [
        {
          "output_type": "stream",
          "name": "stdout",
          "text": [
            "*\n",
            "**\n",
            "***\n",
            "****\n",
            "*****\n"
          ]
        }
      ]
    },
    {
      "cell_type": "code",
      "source": [
        "#ex 27)\n",
        "for i in range(7):\n",
        "  for j in range(7):\n",
        "    if (i==j) or(i+j==6):\n",
        "      print('*', end = '')\n",
        "    else:\n",
        "      print(' ', end = '')\n",
        "  print()"
      ],
      "metadata": {
        "colab": {
          "base_uri": "https://localhost:8080/"
        },
        "id": "Lmnt0_PSCW7v",
        "outputId": "18f19c33-73e7-4edb-8eb2-924cba1cfc78"
      },
      "execution_count": 46,
      "outputs": [
        {
          "output_type": "stream",
          "name": "stdout",
          "text": [
            "*     *\n",
            " *   * \n",
            "  * *  \n",
            "   *   \n",
            "  * *  \n",
            " *   * \n",
            "*     *\n"
          ]
        }
      ]
    },
    {
      "cell_type": "code",
      "source": [
        "#ex 28)\n",
        "cnt = 0\n",
        "n = int(input('수 입력:'))\n",
        "for i in range(2, n+1):\n",
        "  pn = 1\n",
        "  for j in range(2,i):\n",
        "    if i % j == 0:\n",
        "      pn = 0\n",
        "  if pn == 1:\n",
        "    print('{:>5}'.format(i), sep ='', end = ' ')\n",
        "    cnt += 1\n",
        "    if cnt%5==0:\n",
        "      print()"
      ],
      "metadata": {
        "colab": {
          "base_uri": "https://localhost:8080/"
        },
        "id": "PMSBx1nCCW5X",
        "outputId": "432cc513-dc2b-4a0f-ddb0-98c06605ad28"
      },
      "execution_count": 47,
      "outputs": [
        {
          "output_type": "stream",
          "name": "stdout",
          "text": [
            "수 입력:50\n",
            "    2     3     5     7    11 \n",
            "   13    17    19    23    29 \n",
            "   31    37    41    43    47 \n"
          ]
        }
      ]
    },
    {
      "cell_type": "code",
      "source": [],
      "metadata": {
        "id": "obiv7EQiCW3J"
      },
      "execution_count": null,
      "outputs": []
    }
  ]
}