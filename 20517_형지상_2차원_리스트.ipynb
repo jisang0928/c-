{
  "nbformat": 4,
  "nbformat_minor": 0,
  "metadata": {
    "colab": {
      "provenance": []
    },
    "kernelspec": {
      "name": "python3",
      "display_name": "Python 3"
    },
    "language_info": {
      "name": "python"
    }
  },
  "cells": [
    {
      "cell_type": "code",
      "execution_count": 8,
      "metadata": {
        "colab": {
          "base_uri": "https://localhost:8080/"
        },
        "id": "JUC9bxqNP1px",
        "outputId": "93ef8278-09fe-4914-e870-ad8bee4a4bc0"
      },
      "outputs": [
        {
          "output_type": "execute_result",
          "data": {
            "text/plain": [
              "[[10, 20, 30], [40, 50, 60]]"
            ]
          },
          "metadata": {},
          "execution_count": 8
        }
      ],
      "source": [
        "#p28\n",
        "numbers=[[10, 20, 30],[40, 50, 60]]\n",
        "numbers"
      ]
    },
    {
      "cell_type": "code",
      "source": [
        "print(numbers[0][1])\n",
        "print(numbers[1][2])"
      ],
      "metadata": {
        "colab": {
          "base_uri": "https://localhost:8080/"
        },
        "id": "pIU10RbPQUrW",
        "outputId": "8e82aa92-4527-4a26-b533-0350f5c79b64"
      },
      "execution_count": 9,
      "outputs": [
        {
          "output_type": "stream",
          "name": "stdout",
          "text": [
            "20\n",
            "60\n"
          ]
        }
      ]
    },
    {
      "cell_type": "code",
      "source": [
        "for sub in numbers:\n",
        "  for s in sub:\n",
        "    print(s, end=' ')\n",
        "  print()"
      ],
      "metadata": {
        "colab": {
          "base_uri": "https://localhost:8080/"
        },
        "id": "tgUIcvatQUpR",
        "outputId": "05d4e8e5-2e0b-47cc-a744-06f8cf6bdfde"
      },
      "execution_count": 10,
      "outputs": [
        {
          "output_type": "stream",
          "name": "stdout",
          "text": [
            "10 20 30 \n",
            "40 50 60 \n"
          ]
        }
      ]
    },
    {
      "cell_type": "code",
      "source": [
        "data = [[10, 20], [30, 40], [50, 60], [70, 80]]\n",
        "\n",
        "for i in range(4):\n",
        "  for j in range(2):\n",
        "    print('%d'%data[i][j], end=' ' )\n",
        "  print()"
      ],
      "metadata": {
        "colab": {
          "base_uri": "https://localhost:8080/"
        },
        "id": "E7vBOY-FQUmq",
        "outputId": "aa3b412e-cb6f-42f7-93a9-21bdef71c090"
      },
      "execution_count": 15,
      "outputs": [
        {
          "output_type": "stream",
          "name": "stdout",
          "text": [
            "10 20 \n",
            "30 40 \n",
            "50 60 \n",
            "70 80 \n"
          ]
        }
      ]
    },
    {
      "cell_type": "code",
      "source": [
        "dta = [[10, 20], [30, 40], [50, 60], [70, 80]]\n",
        "\n",
        "for i in range(4) :\n",
        "\n",
        "    print(\"data[%d][%d] = %d\"      )"
      ],
      "metadata": {
        "colab": {
          "base_uri": "https://localhost:8080/"
        },
        "id": "pXjSkFqIQUkT",
        "outputId": "0b4eec7b-db55-4336-fb1c-dce92bc92025"
      },
      "execution_count": 23,
      "outputs": [
        {
          "output_type": "stream",
          "name": "stdout",
          "text": [
            "data[%d][%d] = %d\n",
            "data[%d][%d] = %d\n",
            "data[%d][%d] = %d\n",
            "data[%d][%d] = %d\n"
          ]
        }
      ]
    },
    {
      "cell_type": "code",
      "source": [
        "strings = [[\"원두커피\", \"라떼\", \"콜라\"], [\"우동\", \"국수\", \"피자\", \"파스타\"]]\n",
        "\n",
        "print(len(strings))\n",
        "print(len(strings[0]))\n",
        "print(len(strings[1]))\n",
        "\n",
        "for i in range(len(strings)):\n",
        "  for j in range(len(strings[i])):\n",
        "    print('%s'%strings[i][j],end= ' ')\n",
        "  print()\n"
      ],
      "metadata": {
        "colab": {
          "base_uri": "https://localhost:8080/"
        },
        "id": "qXgfPnCJQUhi",
        "outputId": "7702ef20-99e8-4674-86f1-86656e288237"
      },
      "execution_count": 18,
      "outputs": [
        {
          "output_type": "stream",
          "name": "stdout",
          "text": [
            "2\n",
            "3\n",
            "4\n",
            "원두커피 라떼 콜라 \n",
            "우동 국수 피자 파스타 \n"
          ]
        }
      ]
    },
    {
      "cell_type": "code",
      "source": [
        "numbers = [7, 9, 15, 18, 30, -3, 7, 12, -16, -12]\n",
        "\n",
        "sum=0\n",
        "i=0\n",
        "print(\"짝수 번째 요소 : \", end=\"\")\n",
        "\n",
        "while i<len(numbers):\n",
        "  if (i+1)%2==0:\n",
        "    sum+=numbers[i]\n",
        "    print(numbers[i], end=' ')\n",
        "  i+=1\n",
        "print('\\n합계 : ', sum ) "
      ],
      "metadata": {
        "colab": {
          "base_uri": "https://localhost:8080/"
        },
        "id": "RrK0BmyYQUfC",
        "outputId": "d7281c55-c9f5-4f55-a26d-5b18f70649e4"
      },
      "execution_count": 22,
      "outputs": [
        {
          "output_type": "stream",
          "name": "stdout",
          "text": [
            "짝수 번째 요소 : 9 18 -3 12 -12 \n",
            "합계 :  24\n"
          ]
        }
      ]
    },
    {
      "cell_type": "code",
      "source": [
        "score = [\n",
        "        [88,76,92,98],\n",
        "        [65,70,58,82],\n",
        "        [82,80,78,88],\n",
        "        ]\n",
        "total=0\n",
        "totalsub=0\n",
        "for stu in score:\n",
        "  sum=0\n",
        "  for s in stu:\n",
        "    sum +=s\n",
        "  subjects=len(stu)# 한 학생의 과목수\n",
        "  print(\"총점\", sum, \"평균: \", sum/len(stu))\n",
        "  total +=sum\n",
        "  totalsub += subjects\n",
        "print(\"전체 평균 : \", total/totalsub)"
      ],
      "metadata": {
        "colab": {
          "base_uri": "https://localhost:8080/"
        },
        "id": "udz_k69cQUcK",
        "outputId": "d9b11357-50c4-4226-fc83-de25ec7b8548"
      },
      "execution_count": 25,
      "outputs": [
        {
          "output_type": "stream",
          "name": "stdout",
          "text": [
            "총점 354 평균:  88.5\n",
            "총점 275 평균:  68.75\n",
            "총점 328 평균:  82.0\n",
            "전체 평균 :  79.75\n"
          ]
        }
      ]
    },
    {
      "cell_type": "code",
      "source": [
        "seats = [[0, 0, 0, 0, 0, 0, 0, 0, 0, 0],\\\n",
        "         [0, 0, 0, 0, 0, 0, 0, 0, 0, 0],\\\n",
        "         [0, 0, 0, 0, 0, 0, 0, 0, 0, 0],\\\n",
        "         [1, 1, 1, 0, 0, 0, 0, 0, 1, 0],\\\n",
        "         [0, 0, 0, 0, 0, 1, 0, 0, 0, 0],\\\n",
        "         [0, 1, 0, 0, 0, 1, 0, 1, 0, 0],\\\n",
        "         [0, 0, 0, 0, 0, 0, 1, 0, 0, 0],\\\n",
        "         [1, 0, 1, 0, 0, 0, 0, 0, 0, 1]]\n",
        "         for i in range(10):\n",
        "          for j in range (10):\n",
        "            if i%2==0:\n",
        "              print('%3s'%'□',end='')\n",
        "            else:\n",
        "              print('%3s'%'■',end='')\n",
        "      print()\n",
        "              print('%3s'%'□',end='')\n",
        "print('|n※ 예약 가능:  ■, 예약 불가 : ')"
      ],
      "metadata": {
        "id": "DElgG87LQUZy"
      },
      "execution_count": null,
      "outputs": []
    },
    {
      "cell_type": "code",
      "source": [
        "scores = [[96, 84, 80], [96, 86, 76], [76, 95, 83], [89, 96, 69], [83, 90, 83], [85, 90, 83]]\n",
        "i = 0\n",
        "while i < len(scores):\n",
        "  sum=0\n",
        "  j=0\n",
        "  while j<len(scores[i]):\n",
        "    sum += scores[i][j]\n",
        "    j+=1\n",
        "  avg=sum/len(scores[i])\n",
        "  print('%d번째 학생의 합계 : %d, 평균: %.2f'%(i+1, sum, avg))\n",
        "  i+=1"
      ],
      "metadata": {
        "colab": {
          "base_uri": "https://localhost:8080/"
        },
        "id": "b-JZBig-QUUy",
        "outputId": "63f0e548-8ab5-45a5-f107-082f5a53fd55"
      },
      "execution_count": 30,
      "outputs": [
        {
          "output_type": "stream",
          "name": "stdout",
          "text": [
            "1번째 학생의 합계 : 260, 평균: 86.67\n",
            "2번째 학생의 합계 : 258, 평균: 86.00\n",
            "3번째 학생의 합계 : 254, 평균: 84.67\n",
            "4번째 학생의 합계 : 254, 평균: 84.67\n",
            "5번째 학생의 합계 : 256, 평균: 85.33\n",
            "6번째 학생의 합계 : 258, 평균: 86.00\n"
          ]
        }
      ]
    },
    {
      "cell_type": "code",
      "source": [
        "scores = [[96, 84, 80], [96, 86, 76], [76, 95, 83], [89, 96, 69], [83, 90, 83], [85, 90, 83]]\n",
        "\n",
        "for i in range(len(scores)):\n",
        "  sum=0\n",
        "  for j in range(len(scores[i])):\n",
        "    sum += scores[i][j]\n",
        "  avg=sum/len(scores[i])\n",
        "  print('%d번째 학생의 합계 : %d, 평균: %.2f'%(i+1, sum, avg))"
      ],
      "metadata": {
        "colab": {
          "base_uri": "https://localhost:8080/"
        },
        "id": "3Ifzc9fTQUST",
        "outputId": "c1fc9cc1-6a38-4ed0-df9c-4331b749d2c7"
      },
      "execution_count": 33,
      "outputs": [
        {
          "output_type": "stream",
          "name": "stdout",
          "text": [
            "1번째 학생의 합계 : 260, 평균: 86.67\n",
            "2번째 학생의 합계 : 258, 평균: 86.00\n",
            "3번째 학생의 합계 : 254, 평균: 84.67\n",
            "4번째 학생의 합계 : 254, 평균: 84.67\n",
            "5번째 학생의 합계 : 256, 평균: 85.33\n",
            "6번째 학생의 합계 : 258, 평균: 86.00\n"
          ]
        }
      ]
    },
    {
      "cell_type": "markdown",
      "source": [
        "리스트 컴프리헨션"
      ],
      "metadata": {
        "id": "Mt5XgI8et1-x"
      }
    },
    {
      "cell_type": "code",
      "source": [
        "#[2 * n for n in range(1.11)]"
      ],
      "metadata": {
        "id": "BlCSxKyct1kp"
      },
      "execution_count": 37,
      "outputs": []
    },
    {
      "cell_type": "code",
      "source": [
        "even1 = [i for i in range(100) if i%2==0]\n",
        "even2 = [i*2 for i in range(1, 51)]\n",
        "even3 = [i for i in range(0, 100, 2)]\n",
        "print(even1)\n",
        "print(even2)\n",
        "print(even3)"
      ],
      "metadata": {
        "colab": {
          "base_uri": "https://localhost:8080/"
        },
        "id": "p8T3bahot1ix",
        "outputId": "aea0d6c5-b510-492a-e6ed-1c9b823a10ef"
      },
      "execution_count": 38,
      "outputs": [
        {
          "output_type": "stream",
          "name": "stdout",
          "text": [
            "[0, 2, 4, 6, 8, 10, 12, 14, 16, 18, 20, 22, 24, 26, 28, 30, 32, 34, 36, 38, 40, 42, 44, 46, 48, 50, 52, 54, 56, 58, 60, 62, 64, 66, 68, 70, 72, 74, 76, 78, 80, 82, 84, 86, 88, 90, 92, 94, 96, 98]\n",
            "[2, 4, 6, 8, 10, 12, 14, 16, 18, 20, 22, 24, 26, 28, 30, 32, 34, 36, 38, 40, 42, 44, 46, 48, 50, 52, 54, 56, 58, 60, 62, 64, 66, 68, 70, 72, 74, 76, 78, 80, 82, 84, 86, 88, 90, 92, 94, 96, 98, 100]\n",
            "[0, 2, 4, 6, 8, 10, 12, 14, 16, 18, 20, 22, 24, 26, 28, 30, 32, 34, 36, 38, 40, 42, 44, 46, 48, 50, 52, 54, 56, 58, 60, 62, 64, 66, 68, 70, 72, 74, 76, 78, 80, 82, 84, 86, 88, 90, 92, 94, 96, 98]\n"
          ]
        }
      ]
    },
    {
      "cell_type": "code",
      "source": [
        "li = []\n",
        "for n in range(1, 10):\n",
        "    if n%3 ==0:\n",
        "        li.append(n*n)\n",
        "print(li)"
      ],
      "metadata": {
        "colab": {
          "base_uri": "https://localhost:8080/"
        },
        "id": "Ym-zjSX7t1gi",
        "outputId": "378a218a-7584-4945-a300-5fa21ddbd76d"
      },
      "execution_count": 42,
      "outputs": [
        {
          "output_type": "stream",
          "name": "stdout",
          "text": [
            "[9, 36, 81]\n"
          ]
        }
      ]
    },
    {
      "cell_type": "code",
      "source": [
        "numbers = [1,2,3,4,5]\n",
        "result = []\n",
        "for n in numbers:\n",
        "  if n% 2 == 1:\n",
        "    result.append(n*2)\n",
        "print(result)"
      ],
      "metadata": {
        "colab": {
          "base_uri": "https://localhost:8080/"
        },
        "id": "djzucxwIt1dx",
        "outputId": "e8f0e1cf-0a16-452b-8531-9fa5f9237233"
      },
      "execution_count": 44,
      "outputs": [
        {
          "output_type": "stream",
          "name": "stdout",
          "text": [
            "[2, 6, 10]\n"
          ]
        }
      ]
    },
    {
      "cell_type": "code",
      "source": [
        "v = [17, 92, 18, 33, 58, 7, 33, 42]\n",
        "\n",
        "max = v[0]\n",
        "\n",
        "for i in range(len(v)):\n",
        "  if v[i]> max:\n",
        "    max=v[i]\n",
        "print('최대값 =' ,max)"
      ],
      "metadata": {
        "colab": {
          "base_uri": "https://localhost:8080/"
        },
        "id": "fvlK2d9WvoJh",
        "outputId": "fd7c04a1-32e8-4a4c-b140-63edbca8dccf"
      },
      "execution_count": 51,
      "outputs": [
        {
          "output_type": "stream",
          "name": "stdout",
          "text": [
            "최대값 = 92\n"
          ]
        }
      ]
    },
    {
      "cell_type": "code",
      "source": [
        "for i in [1, 2, 3]:\n",
        "  for j in ['a', 'b', 'c']:\n",
        "    print(i*j, end=' ')"
      ],
      "metadata": {
        "colab": {
          "base_uri": "https://localhost:8080/"
        },
        "id": "puAm2p8evoqC",
        "outputId": "adb5ad7c-3e90-4cba-d6ed-887fff4d9200"
      },
      "execution_count": 52,
      "outputs": [
        {
          "output_type": "stream",
          "name": "stdout",
          "text": [
            "a b c aa bb cc aaa bbb ccc "
          ]
        }
      ]
    },
    {
      "cell_type": "code",
      "source": [
        "list_a = [\"I\", \"study\", \"python\", \"language\", \"!\"]\n",
        "\n",
        "for i in list_a:\n",
        "  if len(i)>3:\n",
        "    print(i)\n"
      ],
      "metadata": {
        "colab": {
          "base_uri": "https://localhost:8080/"
        },
        "id": "DBoH9eGBvonq",
        "outputId": "289ee723-2d95-4dbc-d839-9458b5ab579a"
      },
      "execution_count": 53,
      "outputs": [
        {
          "output_type": "stream",
          "name": "stdout",
          "text": [
            "study\n",
            "python\n",
            "language\n"
          ]
        }
      ]
    },
    {
      "cell_type": "code",
      "source": [],
      "metadata": {
        "id": "ZSEVU4rbvolJ"
      },
      "execution_count": null,
      "outputs": []
    },
    {
      "cell_type": "code",
      "source": [],
      "metadata": {
        "id": "5ZamUN1xvoi5"
      },
      "execution_count": null,
      "outputs": []
    }
  ]
}