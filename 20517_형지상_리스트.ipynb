{
  "nbformat": 4,
  "nbformat_minor": 0,
  "metadata": {
    "colab": {
      "provenance": []
    },
    "kernelspec": {
      "name": "python3",
      "display_name": "Python 3"
    },
    "language_info": {
      "name": "python"
    }
  },
  "cells": [
    {
      "cell_type": "code",
      "execution_count": 7,
      "metadata": {
        "colab": {
          "base_uri": "https://localhost:8080/"
        },
        "id": "Bzlvf3MJL42m",
        "outputId": "3aea53b7-4795-4854-dc63-ddbf7b68af94"
      },
      "outputs": [
        {
          "output_type": "stream",
          "name": "stdout",
          "text": [
            "['red', 'blue', 'green']\n",
            "<class 'list'>\n",
            "red\n",
            "blue\n",
            "green\n"
          ]
        }
      ],
      "source": [
        "#리스트\n",
        "colors =['red', 'blue', 'green']\n",
        "print(colors)\n",
        "print(type(colors))\n",
        "print(colors[0])\n",
        "print(colors[1])\n",
        "print(colors[2])"
      ]
    },
    {
      "cell_type": "code",
      "source": [],
      "metadata": {
        "id": "NudgnvbOROAp"
      },
      "execution_count": null,
      "outputs": []
    },
    {
      "cell_type": "code",
      "source": [
        "num=range(1, 21, 2)\n",
        "print(num)\n",
        "print(type(num))\n",
        "num=list(range(1, 21, 2))\n",
        "print(num)\n",
        "print(len(num))\n",
        "print(type(num))"
      ],
      "metadata": {
        "colab": {
          "base_uri": "https://localhost:8080/"
        },
        "id": "Qmh_zwgzNEZB",
        "outputId": "2c8c6e93-0671-4fa1-f7e1-80f39d89fb89"
      },
      "execution_count": 3,
      "outputs": [
        {
          "output_type": "stream",
          "name": "stdout",
          "text": [
            "range(1, 21, 2)\n",
            "<class 'range'>\n",
            "[1, 3, 5, 7, 9, 11, 13, 15, 17, 19]\n",
            "10\n",
            "<class 'list'>\n"
          ]
        }
      ]
    },
    {
      "cell_type": "code",
      "source": [
        "colors=['red','blue','green']\n"
      ],
      "metadata": {
        "id": "kISmHiFYN9L4"
      },
      "execution_count": null,
      "outputs": []
    },
    {
      "cell_type": "code",
      "source": [
        "print(\"서울로봇고\")\n",
        "print(list(\"서울로봇고\"))"
      ],
      "metadata": {
        "colab": {
          "base_uri": "https://localhost:8080/"
        },
        "id": "-CfWVTPgPNRl",
        "outputId": "3cac4cce-b630-4255-ec1d-5aefbc4c9233"
      },
      "execution_count": 4,
      "outputs": [
        {
          "output_type": "stream",
          "name": "stdout",
          "text": [
            "서울로봇고\n",
            "['서', '울', '로', '봇', '고']\n"
          ]
        }
      ]
    },
    {
      "cell_type": "code",
      "source": [
        "price = [500, 5000, 8900, 1800, 2500]\n",
        "print(price)\n",
        "print(type(price))\n",
        "fruit = ['사과', 1500, '수박', 8900]\n",
        "print(fruit)\n",
        "print(type(fruit))\n"
      ],
      "metadata": {
        "colab": {
          "base_uri": "https://localhost:8080/"
        },
        "id": "VW6pTTCcPWtD",
        "outputId": "f67a6b32-2855-42c5-c743-14b7d0bf0b98"
      },
      "execution_count": 5,
      "outputs": [
        {
          "output_type": "stream",
          "name": "stdout",
          "text": [
            "<class 'list'>\n"
          ]
        }
      ]
    },
    {
      "cell_type": "code",
      "source": [
        "a = []\n",
        "b = list()\n",
        "print(a)\n",
        "print(b)\n",
        "print(type(a))\n",
        "print(type(b))"
      ],
      "metadata": {
        "colab": {
          "base_uri": "https://localhost:8080/"
        },
        "id": "vqzdewhyQhOS",
        "outputId": "c381287b-e7a9-4e88-c196-0d68b6943a63"
      },
      "execution_count": 9,
      "outputs": [
        {
          "output_type": "stream",
          "name": "stdout",
          "text": [
            "[]\n",
            "[]\n",
            "<class 'list'>\n",
            "<class 'list'>\n"
          ]
        }
      ]
    },
    {
      "cell_type": "code",
      "source": [
        "score = [ 88, 95, 70, 100,99,80,78,50]\n",
        "print(\"학생 수는 \", len(score), \"명입니다.\")\n",
        "print(\"최고점수는 \", max(score), \"점입니다.\")\n",
        "print(\"최저점수는 \", min(score), \"점입니다.\")"
      ],
      "metadata": {
        "colab": {
          "base_uri": "https://localhost:8080/"
        },
        "id": "HwG9SPR5RkKi",
        "outputId": "167ad729-a0a2-4bca-8afb-0f7172e12da0"
      },
      "execution_count": 10,
      "outputs": [
        {
          "output_type": "stream",
          "name": "stdout",
          "text": [
            "학생 수는  8 명입니다.\n",
            "최고점수는  100 점입니다.\n",
            "최저점수는  50 점입니다.\n"
          ]
        }
      ]
    },
    {
      "cell_type": "code",
      "source": [
        "score = [88, 95, 70, 100, 99]\n",
        "\n",
        "score[0]= 10\n",
        "score[1]= 20\n",
        "score[2]= 30\n",
        "score[3]= 40\n",
        "score[4]= 50\n",
        "\n",
        "print(score)"
      ],
      "metadata": {
        "colab": {
          "base_uri": "https://localhost:8080/"
        },
        "id": "b9GMwylkXWar",
        "outputId": "0fa4828d-4895-4b62-e09b-27ceb8f9984e"
      },
      "execution_count": 13,
      "outputs": [
        {
          "output_type": "stream",
          "name": "stdout",
          "text": [
            "[10, 20, 30, 40, 50]\n"
          ]
        }
      ]
    },
    {
      "cell_type": "code",
      "source": [
        "animals = ['토끼', '거북이', '사자', '호랑이']\n",
        "\n",
        "i = 0\n",
        "while"
      ],
      "metadata": {
        "id": "kKbcpeE8XuhT"
      },
      "execution_count": null,
      "outputs": []
    },
    {
      "cell_type": "code",
      "source": [
        "num = list(range(1, 21, 2))\n",
        "a = list(\"Korea\")\n",
        "print(num)\n",
        "print(type(num))\n",
        "print(a)\n",
        "print(type(a))\n",
        "print(len(num))\n",
        "print(len(a))"
      ],
      "metadata": {
        "colab": {
          "base_uri": "https://localhost:8080/"
        },
        "id": "0RUlFBonYafA",
        "outputId": "482323dd-9a0e-4899-885a-4dd4f91a96c2"
      },
      "execution_count": 14,
      "outputs": [
        {
          "output_type": "stream",
          "name": "stdout",
          "text": [
            "[1, 3, 5, 7, 9, 11, 13, 15, 17, 19]\n",
            "<class 'list'>\n",
            "['K', 'o', 'r', 'e', 'a']\n",
            "<class 'list'>\n",
            "10\n",
            "5\n"
          ]
        }
      ]
    },
    {
      "cell_type": "code",
      "source": [
        "score = [ 88, 95, 70, 100, 99]\n",
        "for i in range(0, 4):\n",
        "  print(score[i], end = '  ')\n",
        "\n",
        "print()\n",
        "print(score[-1], end = '  ')\n",
        "for i in range(-2, -5, -1):\n",
        "  print(score[i], end = '  ')"
      ],
      "metadata": {
        "colab": {
          "base_uri": "https://localhost:8080/"
        },
        "id": "cVtwYJ-OY906",
        "outputId": "20bb29c0-504f-440f-e72b-7fbe95887172"
      },
      "execution_count": 15,
      "outputs": [
        {
          "output_type": "stream",
          "name": "stdout",
          "text": [
            "88  95  70  100  \n",
            "99  100  70  95  "
          ]
        }
      ]
    },
    {
      "cell_type": "code",
      "source": [
        "animals = ['토끼', '거북이', '사자', '호랑이']\n",
        "i = 0\n",
        "while i<4:\n",
        "  print(animals[i])\n",
        "  i+=1"
      ],
      "metadata": {
        "colab": {
          "base_uri": "https://localhost:8080/"
        },
        "id": "Z8xp1CzabtKL",
        "outputId": "9b14d820-28a2-46ef-d610-9349123ea358"
      },
      "execution_count": 17,
      "outputs": [
        {
          "output_type": "stream",
          "name": "stdout",
          "text": [
            "토끼\n",
            "거북이\n",
            "사자\n",
            "호랑이\n"
          ]
        }
      ]
    },
    {
      "cell_type": "code",
      "source": [
        "#ex 10\n",
        "nums = [0,1,2,3,4,5,6,7,8,9]\n",
        "print(nums[2: 5: 1])\n",
        "print(nums[1: 6: 2])\n",
        "print(nums[0: 5: 2])"
      ],
      "metadata": {
        "colab": {
          "base_uri": "https://localhost:8080/"
        },
        "id": "XIpsaFhncA4u",
        "outputId": "f89fbac0-7bbe-46e1-f88a-ccea2a631a7f"
      },
      "execution_count": 18,
      "outputs": [
        {
          "output_type": "stream",
          "name": "stdout",
          "text": [
            "[2, 3, 4]\n",
            "[1, 3, 5]\n",
            "[0, 2, 4]\n"
          ]
        }
      ]
    },
    {
      "cell_type": "code",
      "source": [
        "#ex 11\n",
        "nums = [0,1,2,3,4,5,6,7,8,9]\n",
        "print(nums[: 5: 1])\n",
        "print(nums[: 7: 2])\n",
        "print(nums[: 5: 2])"
      ],
      "metadata": {
        "colab": {
          "base_uri": "https://localhost:8080/"
        },
        "id": "oIGOKri-cSnq",
        "outputId": "da5002e3-e28f-4b09-8ceb-4bec236b18c6"
      },
      "execution_count": 19,
      "outputs": [
        {
          "output_type": "stream",
          "name": "stdout",
          "text": [
            "[0, 1, 2, 3, 4]\n",
            "[0, 2, 4, 6]\n",
            "[0, 2, 4]\n"
          ]
        }
      ]
    },
    {
      "cell_type": "code",
      "source": [
        "#ex 12\n",
        "nums = [0,1,2,3,4,5,6,7,8,9]\n",
        "print(nums[2 :: 1])\n",
        "print(nums[1 :: 2])\n",
        "print(nums[0 :: 2])"
      ],
      "metadata": {
        "colab": {
          "base_uri": "https://localhost:8080/"
        },
        "id": "QgS2uZ8weFHx",
        "outputId": "e5cf9e3c-80d3-4e72-c967-46e596781ec2"
      },
      "execution_count": 20,
      "outputs": [
        {
          "output_type": "stream",
          "name": "stdout",
          "text": [
            "[2, 3, 4, 5, 6, 7, 8, 9]\n",
            "[1, 3, 5, 7, 9]\n",
            "[0, 2, 4, 6, 8]\n"
          ]
        }
      ]
    },
    {
      "cell_type": "code",
      "source": [
        "fruits = ['사과', '오렌지', '딸기', '포도', '감', '키위', '멜론', '수박']\n",
        "print(fruits[0])\n",
        "print(fruits[1:4])\n",
        "print(fruits[2::])\n",
        "print(fruits[5])\n",
        "print(fruits[4:6:1])\n",
        "print(fruits[5::])"
      ],
      "metadata": {
        "colab": {
          "base_uri": "https://localhost:8080/"
        },
        "id": "eUy7wXkbebKP",
        "outputId": "47dcca9b-163c-4a31-e8fd-fbdd3c3c9bfe"
      },
      "execution_count": 21,
      "outputs": [
        {
          "output_type": "stream",
          "name": "stdout",
          "text": [
            "사과\n",
            "['오렌지', '딸기', '포도']\n",
            "['딸기', '포도', '감', '키위', '멜론', '수박']\n",
            "키위\n",
            "['감', '키위']\n",
            "['키위', '멜론', '수박']\n"
          ]
        }
      ]
    },
    {
      "cell_type": "code",
      "source": [
        "my_list = list(\"PythonlsFun!\")\n",
        "print(my_list)\n",
        "print(my_list[5:-1])\n",
        "print(my_list[-5:-2:1])\n",
        "print(my_list[:4:])\n",
        "print(my_list[-4::])"
      ],
      "metadata": {
        "colab": {
          "base_uri": "https://localhost:8080/"
        },
        "id": "wRCZxnl-i4FN",
        "outputId": "293b5e51-07ac-4a7e-86f5-55b15392df8d"
      },
      "execution_count": 22,
      "outputs": [
        {
          "output_type": "stream",
          "name": "stdout",
          "text": [
            "['P', 'y', 't', 'h', 'o', 'n', 'l', 's', 'F', 'u', 'n', '!']\n",
            "['n', 'l', 's', 'F', 'u', 'n']\n",
            "['s', 'F', 'u']\n",
            "['P', 'y', 't', 'h']\n",
            "['F', 'u', 'n', '!']\n"
          ]
        }
      ]
    },
    {
      "cell_type": "code",
      "source": [
        "s = \"python\"\n",
        "print(s[2])\n",
        "print(s[-2])\n",
        "print(s[1:4])"
      ],
      "metadata": {
        "colab": {
          "base_uri": "https://localhost:8080/"
        },
        "id": "8rtDNyTXjVLi",
        "outputId": "6cdab4a6-2e61-44f0-ea26-edeb4e8c6f9b"
      },
      "execution_count": 23,
      "outputs": [
        {
          "output_type": "stream",
          "name": "stdout",
          "text": [
            "t\n",
            "o\n",
            "yth\n"
          ]
        }
      ]
    },
    {
      "cell_type": "code",
      "source": [
        "file = \"20210505-104830.jpg\"\n",
        "print(\"촬영 날짜 :\", file[4:6:1]), \"월\", file[6:8:1]\n",
        "print(\"촬영 날짜 :\", file[11:13:]), \"월\", file[13:16:] , \"일\"\n",
        "print(\"확장자 : \", file[-3::])"
      ],
      "metadata": {
        "colab": {
          "base_uri": "https://localhost:8080/"
        },
        "id": "5-e2tQLvjeTK",
        "outputId": "90e7209d-f681-4790-dd0f-73fb2fa47aea"
      },
      "execution_count": 25,
      "outputs": [
        {
          "output_type": "stream",
          "name": "stdout",
          "text": [
            "촬영 날짜 : 05\n",
            "촬영 날짜 : 48\n",
            "확장자 :  jpg\n"
          ]
        }
      ]
    },
    {
      "cell_type": "code",
      "source": [
        "s = \"차종: 코란도C, 제조사:쌍용, 배기량: 1998\"\n",
        "print (s[14:16:1])"
      ],
      "metadata": {
        "colab": {
          "base_uri": "https://localhost:8080/"
        },
        "id": "N_mrFjljkakJ",
        "outputId": "18980f71-95aa-45c7-fde1-b54dcf6aecdc"
      },
      "execution_count": 26,
      "outputs": [
        {
          "output_type": "stream",
          "name": "stdout",
          "text": [
            "쌍용\n"
          ]
        }
      ]
    },
    {
      "cell_type": "code",
      "source": [
        "jumin = \"901231-1914983\"\n",
        "year = jumin[0:2:1]\n",
        "if jumin[7]==2:\n",
        "  gender = \"여자\"\n",
        "else:\n",
        "  gender = \"남자\"\n",
        "\n",
        "print(\"{}년생 {}입니다.\".format(year, gender))"
      ],
      "metadata": {
        "colab": {
          "base_uri": "https://localhost:8080/"
        },
        "id": "XEOJMehlkseg",
        "outputId": "ef325409-fd07-40e4-d0ae-f6518bec4df2"
      },
      "execution_count": 28,
      "outputs": [
        {
          "output_type": "stream",
          "name": "stdout",
          "text": [
            "90년생 남자입니다.\n"
          ]
        }
      ]
    }
  ]
}